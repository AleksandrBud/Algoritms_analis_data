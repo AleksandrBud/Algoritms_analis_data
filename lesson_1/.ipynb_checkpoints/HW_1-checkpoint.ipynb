{
 "cells": [
  {
   "cell_type": "markdown",
   "metadata": {},
   "source": [
    "1. Подберите скорость обучения (alpha) и количество итераций.\n",
    "\n",
    "*3. вместо того, чтобы задавать количество итераций, задайте условие остановки алгоритма - когда ошибка за итерацию\n",
    "начинает изменяться ниже определенного порога (упрощенный аналог параметра tol в линейной регрессии в sklearn)."
   ]
  },
  {
   "cell_type": "code",
   "execution_count": 1,
   "metadata": {},
   "outputs": [],
   "source": [
    "import numpy as np"
   ]
  },
  {
   "cell_type": "code",
   "execution_count": 2,
   "metadata": {},
   "outputs": [],
   "source": [
    "def calc_mse(y, y_pred):\n",
    "  err = np.mean((y - y_pred)**2)\n",
    "  return err"
   ]
  },
  {
   "cell_type": "code",
   "execution_count": 3,
   "metadata": {},
   "outputs": [],
   "source": [
    "X = np.array([[1, 1, 1, 1, 1, 1, 1, 1, 1, 1],\n",
    "              [1, 1, 2, 1, 3, 0, 5, 10, 1, 2]])"
   ]
  },
  {
   "cell_type": "code",
   "execution_count": 4,
   "metadata": {},
   "outputs": [],
   "source": [
    "y = [45, 55, 50, 59, 65, 35, 75, 80, 50, 60]"
   ]
  },
  {
   "cell_type": "code",
   "execution_count": 5,
   "metadata": {},
   "outputs": [
    {
     "name": "stdout",
     "output_type": "stream",
     "text": [
      "0.1 2 [  3.156  -36.5104] 9346.1224\n",
      "0.010000000000000002 1650 [47.23214143  3.91071455] 45.9375\n",
      "0.0010000000000000002 5000 [46.98926025  3.95556442] 45.9693\n",
      "0.00010000000000000002 5000 [21.01242611  8.75238226] 415.6122\n",
      "1.0000000000000003e-05 5000 [4.89544393 9.08446051] 1090.2178\n",
      "1.0000000000000004e-06 5000 [1.52732513 2.07512148] 2620.4124\n",
      "1.0000000000000004e-07 5000 [1.05485271 0.66869421] 3110.2282\n",
      "1.0000000000000005e-08 5000 [1.00550752 0.51698688] 3166.7735\n"
     ]
    }
   ],
   "source": [
    "lpha = 0.1\n",
    "n = X.shape[1]\n",
    "for alfa_iter in range(1, 9):\n",
    "    alpha = 1 * 0.1**alfa_iter\n",
    "    W = np.array([1, 0.5])\n",
    "    err = np.inf\n",
    "    err_pred = np.inf\n",
    "    iter_count = 0\n",
    "    while err <= err_pred and iter_count < 5000:\n",
    "        iter_count += 1\n",
    "        err_pred = err\n",
    "        y_pred = np.dot(W, X)\n",
    "        err = calc_mse(y, y_pred)\n",
    "        for ii in range(W.shape[0]):\n",
    "            W[ii] -= alpha * (1/n * 2 * np.sum(X[ii] * (y_pred - y)))\n",
    "    print(alpha, iter_count, W, round(err, 4))"
   ]
  },
  {
   "cell_type": "code",
   "execution_count": 6,
   "metadata": {},
   "outputs": [
    {
     "name": "stdout",
     "output_type": "stream",
     "text": [
      "0.1 2 [  3.156  -36.5104] 9346.1224\n",
      "0.05 346 [47.23214244  3.91071436] 45.9375\n",
      "0.0333 516 [47.2321423   3.91071439] 45.9375\n",
      "0.025 664 [47.23214174  3.91071449] 45.9375\n",
      "0.02 850 [47.23214209  3.91071443] 45.9375\n",
      "0.0167 1015 [47.23214202  3.91071444] 45.9375\n",
      "0.0143 1166 [47.23214171  3.9107145 ] 45.9375\n",
      "0.0125 1334 [47.2321417  3.9107145] 45.9375\n"
     ]
    }
   ],
   "source": [
    "alpha = 0.1\n",
    "n = X.shape[1]\n",
    "arr_result = []\n",
    "for alfa_iter in range(1, 9):\n",
    "    alpha = round(1 * 0.1/alfa_iter, 4)\n",
    "    W = np.array([1, 0.5])\n",
    "    err = np.inf\n",
    "    err_pred = np.inf\n",
    "    iter_count = 0\n",
    "    while err <= err_pred and iter_count < 5000:\n",
    "        iter_count += 1\n",
    "        err_pred = err\n",
    "        y_pred = np.dot(W, X)\n",
    "        err = calc_mse(y, y_pred)\n",
    "        for ii in range(W.shape[0]):\n",
    "            W[ii] -= alpha * (1/n * 2 * np.sum(X[ii] * (y_pred - y)))\n",
    "    result = {'alpha': alpha, 'iter_count': iter_count, 'W': W, 'err': err}\n",
    "    arr_result.append(result)\n",
    "    print(alpha, iter_count, W, round(err, 4))"
   ]
  },
  {
   "cell_type": "markdown",
   "metadata": {},
   "source": [
    "При alpha = 0.05 и количестве итераций 346 быстрее всего достигается нужный коэфициент ошибки."
   ]
  },
  {
   "cell_type": "code",
   "execution_count": null,
   "metadata": {},
   "outputs": [],
   "source": []
  }
 ],
 "metadata": {
  "kernelspec": {
   "display_name": "Python 3",
   "language": "python",
   "name": "python3"
  },
  "language_info": {
   "codemirror_mode": {
    "name": "ipython",
    "version": 3
   },
   "file_extension": ".py",
   "mimetype": "text/x-python",
   "name": "python",
   "nbconvert_exporter": "python",
   "pygments_lexer": "ipython3",
   "version": "3.7.4"
  }
 },
 "nbformat": 4,
 "nbformat_minor": 2
}
