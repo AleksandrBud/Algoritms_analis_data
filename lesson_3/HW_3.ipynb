{
 "cells": [
  {
   "cell_type": "code",
   "execution_count": 1,
   "metadata": {},
   "outputs": [],
   "source": [
    "import numpy as np"
   ]
  },
  {
   "cell_type": "markdown",
   "metadata": {},
   "source": [
    "1*. Измените функцию calc_logloss так, чтобы нули по возможности не попадали в np.log.  "
   ]
  },
  {
   "cell_type": "code",
   "execution_count": 33,
   "metadata": {},
   "outputs": [],
   "source": [
    "def calc_logloss(y, y_pred):\n",
    "    SIMULATE_ERROR = 0.0000000000001\n",
    "    y_pred = abs(y_pred - SIMULATE_ERROR)\n",
    "    err = - np.mean(y * np.log(y_pred) + (1.0 - y) * np.log(1.0 - y_pred))\n",
    "    return err"
   ]
  },
  {
   "cell_type": "code",
   "execution_count": 34,
   "metadata": {},
   "outputs": [
    {
     "data": {
      "text/plain": [
       "2.9933606208923496"
      ]
     },
     "execution_count": 34,
     "metadata": {},
     "output_type": "execute_result"
    }
   ],
   "source": [
    "calc_logloss(0.1, 0)"
   ]
  },
  {
   "cell_type": "markdown",
   "metadata": {},
   "source": [
    "2. Подберите аргументы функции eval_model для логистической регрессии таким образом, чтобы log loss был минимальным."
   ]
  },
  {
   "cell_type": "code",
   "execution_count": 35,
   "metadata": {},
   "outputs": [],
   "source": [
    "def calc_std_feat(x):\n",
    "    res = (x - x.mean()) / x.std()\n",
    "    return res"
   ]
  },
  {
   "cell_type": "code",
   "execution_count": 41,
   "metadata": {},
   "outputs": [],
   "source": [
    "def eval_model(X, y, iterations, alpha=1e-4):\n",
    "    np.random.seed(42)\n",
    "    W = np.random.randn(X.shape[0])\n",
    "    n = X.shape[1]\n",
    "    for i in range(1, iterations+1):\n",
    "        z = np.dot(W, X)\n",
    "        y_pred = sigmoid(z)\n",
    "        err = calc_logloss(y, y_pred)\n",
    "        W -= alpha * (1/n * np.dot((y_pred - y), X.T))\n",
    "#         if i % (iterations / 10) == 0:\n",
    "    print(i, W, err)\n",
    "    return W"
   ]
  },
  {
   "cell_type": "code",
   "execution_count": 37,
   "metadata": {},
   "outputs": [],
   "source": [
    "def sigmoid(z):\n",
    "    res = 1 / (1 + np.exp(-z))\n",
    "    return res"
   ]
  },
  {
   "cell_type": "code",
   "execution_count": 38,
   "metadata": {},
   "outputs": [],
   "source": [
    "X = np.array([[1, 1, 1, 1, 1, 1, 1, 1, 1, 1],\n",
    "              [1, 1, 2, 1, 3, 0, 5, 10, 1, 2],\n",
    "              [500, 700, 750, 600, 1450,\n",
    "               800, 1500, 2000, 450, 1000],\n",
    "              [1, 1, 2, 1, 2, \n",
    "               1, 3, 3, 1, 2]], dtype = np.float64)\n",
    "y = np.array([0, 0, 1, 0, 1, 0, 1, 0, 1, 1], dtype = np.float64)"
   ]
  },
  {
   "cell_type": "code",
   "execution_count": 39,
   "metadata": {},
   "outputs": [],
   "source": [
    "X_st = X.copy()\n",
    "X_st[2, :] = calc_std_feat(X[2, :])"
   ]
  },
  {
   "cell_type": "code",
   "execution_count": 43,
   "metadata": {},
   "outputs": [
    {
     "name": "stdout",
     "output_type": "stream",
     "text": [
      "1000 0.1\n",
      "1000 [-2.77136565 -0.99588853  0.56641089  3.26813012] 0.40587815270728794\n",
      "1000 0.01\n",
      "1000 [-0.29764618 -0.72670545  1.061634    1.39666497] 0.5233765331724675\n",
      "1000 0.001\n",
      "1000 [ 0.25805314 -0.68199349  0.68835345  1.24114037] 0.5906912249944438\n",
      "1000 0.0001\n",
      "1000 [ 0.45886878 -0.25439917  0.64531344  1.46695851] 1.0395158244734053\n",
      "1000 1e-05\n",
      "1000 [ 0.49282757 -0.15007512  0.64748969  1.51727928] 1.2013133808996321\n",
      "1000 1e-06\n",
      "1000 [ 0.49632455 -0.13944699  0.64766909  1.52245352] 1.2181844180926487\n",
      "1000 1e-07\n",
      "1000 [ 0.49667518 -0.13838259  0.6476866   1.52297221] 1.2198774477600378\n",
      "1000 1e-08\n",
      "1000 [ 0.49671026 -0.13827613  0.64768834  1.52302409] 1.2200468091956105\n",
      "1000 1e-09\n",
      "1000 [ 0.49671376 -0.13826548  0.64768852  1.52302928] 1.2200637459230845\n",
      "2000 0.1\n",
      "2000 [-4.59094777 -1.0359998  -0.13825631  4.44501211] 0.35333924193453237\n",
      "2000 0.01\n",
      "2000 [-0.64214517 -0.81531815  1.11599369  1.72618787] 0.49941171738896867\n",
      "2000 0.001\n",
      "2000 [ 0.14826604 -0.69312636  0.77941081  1.21302468] 0.5686262548132188\n",
      "2000 0.0001\n",
      "2000 [ 0.4236874  -0.36359967  0.6425439   1.41506965] 0.8807599507541332\n",
      "2000 1e-05\n",
      "2000 [ 0.48896238 -0.16184885  0.6472812   1.51155764] 1.1826791562357415\n",
      "2000 1e-06\n",
      "2000 [ 0.49593515 -0.14062933  0.64764955  1.52187747] 1.216302643675791\n",
      "2000 1e-07\n",
      "2000 [ 0.49663621 -0.13850087  0.64768466  1.52291457] 1.219689092499922\n",
      "2000 1e-08\n",
      "2000 [ 0.49670636 -0.13828796  0.64768815  1.52301833] 1.2200279718968667\n",
      "2000 1e-09\n",
      "2000 [ 0.49671337 -0.13826667  0.6476885   1.5230287 ] 1.2200618621754833\n",
      "3000 0.1\n",
      "3000 [-5.91004767 -1.08773886 -0.62127728  5.36155604] 0.325013476149267\n",
      "3000 0.01\n",
      "3000 [-0.95627497 -0.87648865  1.10170056  2.00552673] 0.48129979151302954\n",
      "3000 0.001\n",
      "3000 [ 0.06278003 -0.68610936  0.85154153  1.21294398] 0.5559892552843507\n",
      "3000 0.0001\n",
      "3000 [ 0.39201058 -0.45900098  0.64080604  1.36974771] 0.758759980653363\n",
      "3000 1e-05\n",
      "3000 [ 0.48511903 -0.17358335  0.64706336  1.50586591] 1.1641877161823229\n",
      "3000 1e-06\n",
      "3000 [ 0.49554596 -0.14181132  0.64762991  1.52130171] 1.2144221935804866\n",
      "3000 1e-07\n",
      "3000 [ 0.49659725 -0.13861915  0.64768272  1.52285693] 1.2195007503880932\n",
      "3000 1e-08\n",
      "3000 [ 0.49670246 -0.13829979  0.64768796  1.52301256] 1.2200091347295117\n",
      "3000 1e-09\n",
      "3000 [ 0.49671298 -0.13826785  0.64768848  1.52302813] 1.2200599784291983\n",
      "4000 0.1\n",
      "4000 [-6.96133333 -1.14371437 -0.98694403  6.13057114] 0.30662418783692785\n",
      "4000 0.01\n",
      "4000 [-1.25395556 -0.91702026  1.05407927  2.24381099] 0.4663484120925556\n",
      "4000 0.001\n",
      "4000 [-0.00868429 -0.68420414  0.90686656  1.22453943] 0.5476418419000104\n",
      "4000 0.0001\n",
      "4000 [ 0.36455825 -0.53307004  0.64184068  1.33337513] 0.6825375010765734\n",
      "4000 1e-05\n",
      "4000 [ 0.48129799 -0.18527628  0.64683652  1.50020515] 1.1458455046583327\n",
      "4000 1e-06\n",
      "4000 [ 0.49515698 -0.14299295  0.64761017  1.52072622] 1.2125430731427227\n",
      "4000 1e-07\n",
      "4000 [ 0.49655828 -0.13873742  0.64768077  1.52279929] 1.2193124214297926\n",
      "4000 1e-08\n",
      "4000 [ 0.49669856 -0.13831162  0.64768776  1.5230068 ] 1.2199902976935513\n",
      "4000 1e-09\n",
      "4000 [ 0.49671259 -0.13826903  0.64768846  1.52302755] 1.2200580946842354\n",
      "5000 0.1\n",
      "5000 [-7.85498033 -1.19935714 -1.28748713  6.80564285] 0.29312446754984534\n",
      "5000 0.01\n",
      "5000 [-1.53718107 -0.94412619  0.98701591  2.45304376] 0.4534151021622811\n",
      "5000 0.001\n",
      "5000 [-0.06998375 -0.68665668  0.94958779  1.24412884] 0.5416473056405425\n",
      "5000 0.0001\n",
      "5000 [ 0.34113653 -0.58526221  0.64604926  1.30592474] 0.6416846622933816\n",
      "5000 1e-05\n",
      "5000 [ 0.47749976 -0.19692507  0.64660107  1.49457648] 1.127659533475542\n",
      "5000 1e-06\n",
      "5000 [ 0.49476822 -0.14417421  0.64759033  1.52015102] 1.2106652877426185\n",
      "5000 1e-07\n",
      "5000 [ 0.49651932 -0.13885569  0.64767883  1.52274166] 1.2191241056302577\n",
      "5000 1e-08\n",
      "5000 [ 0.49669467 -0.13832344  0.64768757  1.52300103] 1.2199714607889898\n",
      "5000 1e-09\n",
      "5000 [ 0.4967122  -0.13827022  0.64768844  1.52302697] 1.220056210940583\n"
     ]
    }
   ],
   "source": [
    "ITERATION = [1000, 2000, 3000, 4000, 5000]\n",
    "ALPHA = [1e-1, 1e-2, 1e-3, 1e-4, 1e-5, 1e-6, 1e-7, 1e-8, 1e-9]\n",
    "for iert in ITERATION:\n",
    "    for alpha in ALPHA:\n",
    "        print(iert, alpha)\n",
    "        W = eval_model(X_st, y, iterations=iert, alpha=alpha)\n",
    "#         print('\\n')"
   ]
  },
  {
   "cell_type": "markdown",
   "metadata": {},
   "source": [
    "Минимальная ошибка при колличестве итераций 5000 и alpha 0.1"
   ]
  },
  {
   "cell_type": "markdown",
   "metadata": {},
   "source": [
    "3. Создайте функцию calc_pred_proba, возвращающую предсказанную вероятность класса 1 (на вход подаются W, который уже посчитан функцией eval_model и X, на выходе - массив y_pred_proba)."
   ]
  },
  {
   "cell_type": "code",
   "execution_count": 53,
   "metadata": {},
   "outputs": [
    {
     "name": "stdout",
     "output_type": "stream",
     "text": [
      "1000 [-2.77136565 -0.99588853  0.56641089  3.26813012] 0.40587815270728794\n"
     ]
    }
   ],
   "source": [
    "W = eval_model(X_st, y, iterations=1000, alpha=1e-1)"
   ]
  },
  {
   "cell_type": "code",
   "execution_count": 50,
   "metadata": {},
   "outputs": [],
   "source": [
    "def calc_pred_proba(W, X):\n",
    "    y_pred_proba = 1 / (1 + np.exp(-W*X))\n",
    "    return y_pred_proba"
   ]
  },
  {
   "cell_type": "code",
   "execution_count": 66,
   "metadata": {},
   "outputs": [
    {
     "data": {
      "text/plain": [
       "array([[5.88912793e-02, 2.69750552e-01, 3.64739844e-01, 9.63319156e-01],\n",
       "       [5.88912793e-02, 2.69750552e-01, 4.20376236e-01, 9.63319156e-01],\n",
       "       [5.88912793e-02, 1.20068984e-01, 4.34669680e-01, 9.98552199e-01],\n",
       "       [5.88912793e-02, 2.69750552e-01, 3.92208172e-01, 9.63319156e-01],\n",
       "       [5.88912793e-02, 4.79862209e-02, 6.35260156e-01, 9.98552199e-01],\n",
       "       [5.88912793e-02, 5.00000000e-01, 4.49072588e-01, 9.63319156e-01],\n",
       "       [5.88912793e-02, 6.83091244e-03, 6.48683081e-01, 9.99944794e-01],\n",
       "       [5.88912793e-02, 4.73031983e-05, 7.68045629e-01, 9.99944794e-01],\n",
       "       [5.88912793e-02, 2.69750552e-01, 3.51316919e-01, 9.63319156e-01],\n",
       "       [5.88912793e-02, 1.20068984e-01, 5.07300143e-01, 9.98552199e-01]])"
      ]
     },
     "execution_count": 66,
     "metadata": {},
     "output_type": "execute_result"
    }
   ],
   "source": [
    "calc_pred_proba(W, X_st.T)"
   ]
  },
  {
   "cell_type": "markdown",
   "metadata": {},
   "source": [
    "4. Создайте функцию calc_pred, возвращающую предсказанный класс (на вход подаются W, который уже посчитан функцией eval_model и X, на выходе - массив y_pred)."
   ]
  },
  {
   "cell_type": "code",
   "execution_count": 99,
   "metadata": {},
   "outputs": [],
   "source": [
    "def calc_pred(W, X):\n",
    "    m = X.shape[1]\n",
    "    \n",
    "    y_pred = np.zeros((1, m))\n",
    "    W = W.reshape(X.shape[0], 1)\n",
    "    \n",
    "    A = sigmoid(np.dot(W.T, X))\n",
    "    \n",
    "#   Порог отнесения к тому или иному классу\n",
    "    PROBABLY = 0.6\n",
    "    for i in range(A.shape[1]):\n",
    "        if (A[:,i] > PROBABLY): \n",
    "            y_pred[:, i] = 1\n",
    "        elif (A[:,i] <= PROBABLY):\n",
    "            y_pred[:, i] = 0\n",
    "    return y_pred"
   ]
  },
  {
   "cell_type": "code",
   "execution_count": 102,
   "metadata": {},
   "outputs": [
    {
     "data": {
      "text/plain": [
       "array([[0., 0., 1., 0., 1., 0., 1., 0., 0., 1.]])"
      ]
     },
     "execution_count": 102,
     "metadata": {},
     "output_type": "execute_result"
    }
   ],
   "source": [
    "y_pred = calc_pred(W, X_st)\n",
    "y_pred"
   ]
  },
  {
   "cell_type": "markdown",
   "metadata": {},
   "source": [
    "5. Посчитайте Accuracy, матрицу ошибок, точность и полноту, а также F1 score."
   ]
  },
  {
   "cell_type": "code",
   "execution_count": 104,
   "metadata": {},
   "outputs": [
    {
     "data": {
      "text/plain": [
       "90.0"
      ]
     },
     "execution_count": 104,
     "metadata": {},
     "output_type": "execute_result"
    }
   ],
   "source": [
    "# Accuracy\n",
    "train_accuracy = 100.0 - np.mean(np.abs(y_pred - y)*100.0)\n",
    "train_accuracy"
   ]
  },
  {
   "cell_type": "code",
   "execution_count": 114,
   "metadata": {},
   "outputs": [],
   "source": [
    "# Матрица ошибок\n",
    "def calc_metriks(y, y_pred):\n",
    "    tp = 0\n",
    "    fp = 0\n",
    "    tn = 0\n",
    "    fn = 0\n",
    "    for i in range(len(y)):\n",
    "        if (y[i] == 1 and y_pred[i]) == 1:\n",
    "            tp = tp + 1\n",
    "        elif (y[i] == 1 and y_pred[i]) == 0:\n",
    "            fp = fp + 1\n",
    "        elif (y[i] == 0 and y_pred[i]) == 0:\n",
    "            tn = tn + 1\n",
    "        elif (y[i] == 0 and y_pred[i]) == 1:\n",
    "            fn = fn + 1\n",
    "    return tp, fp, tn, fn"
   ]
  },
  {
   "cell_type": "code",
   "execution_count": 121,
   "metadata": {},
   "outputs": [
    {
     "name": "stdout",
     "output_type": "stream",
     "text": [
      "4 6 0 0\n"
     ]
    }
   ],
   "source": [
    "TP, FP, TN, FN = calc_metriks(y, y_pred[0])\n",
    "print(TP, FP, TN, FN)"
   ]
  },
  {
   "cell_type": "code",
   "execution_count": 123,
   "metadata": {},
   "outputs": [
    {
     "data": {
      "text/plain": [
       "0.4"
      ]
     },
     "execution_count": 123,
     "metadata": {},
     "output_type": "execute_result"
    }
   ],
   "source": [
    "# Точность\n",
    "𝑝𝑟𝑒𝑐𝑖𝑠𝑖𝑜𝑛 = TP/(TP + FP)\n",
    "𝑝𝑟𝑒𝑐𝑖𝑠𝑖𝑜𝑛"
   ]
  },
  {
   "cell_type": "code",
   "execution_count": 124,
   "metadata": {},
   "outputs": [
    {
     "data": {
      "text/plain": [
       "1.0"
      ]
     },
     "execution_count": 124,
     "metadata": {},
     "output_type": "execute_result"
    }
   ],
   "source": [
    "# Полнота\n",
    "recall = TP/(TP + FN)\n",
    "recall"
   ]
  },
  {
   "cell_type": "code",
   "execution_count": 125,
   "metadata": {},
   "outputs": [
    {
     "data": {
      "text/plain": [
       "0.5714285714285715"
      ]
     },
     "execution_count": 125,
     "metadata": {},
     "output_type": "execute_result"
    }
   ],
   "source": [
    "# F1 score\n",
    "f1_score = 2*𝑝𝑟𝑒𝑐𝑖𝑠𝑖𝑜𝑛*recall/(𝑝𝑟𝑒𝑐𝑖𝑠𝑖𝑜𝑛 + recall)\n",
    "f1_score"
   ]
  },
  {
   "cell_type": "markdown",
   "metadata": {},
   "source": [
    "6. Могла ли модель переобучиться? Почему?"
   ]
  },
  {
   "cell_type": "markdown",
   "metadata": {},
   "source": [
    "Да, модель могла переобучиться т.к. в нашей выборке слишком мало наблюдений."
   ]
  }
 ],
 "metadata": {
  "kernelspec": {
   "display_name": "Python 3",
   "language": "python",
   "name": "python3"
  },
  "language_info": {
   "codemirror_mode": {
    "name": "ipython",
    "version": 3
   },
   "file_extension": ".py",
   "mimetype": "text/x-python",
   "name": "python",
   "nbconvert_exporter": "python",
   "pygments_lexer": "ipython3",
   "version": "3.7.4"
  }
 },
 "nbformat": 4,
 "nbformat_minor": 2
}
