{
 "cells": [
  {
   "cell_type": "markdown",
   "metadata": {},
   "source": [
    "1. К алгоритму kNN, реализованному на уроке, реализовать добавление весов для соседей по любому из показанных на уроке принципов."
   ]
  },
  {
   "cell_type": "code",
   "execution_count": 1,
   "metadata": {},
   "outputs": [],
   "source": [
    "import numpy as np\n",
    "from sklearn import model_selection\n",
    "from sklearn.datasets import load_iris\n",
    "import matplotlib.pyplot as plt"
   ]
  },
  {
   "cell_type": "code",
   "execution_count": 2,
   "metadata": {},
   "outputs": [],
   "source": [
    "X, y = load_iris(return_X_y=True)\n",
    "# Для наглядности возьмем только первые два признака (всего в датасете их 4)\n",
    "X = X[:, :2]"
   ]
  },
  {
   "cell_type": "code",
   "execution_count": 3,
   "metadata": {},
   "outputs": [],
   "source": [
    "X_train, X_test, y_train, y_test = model_selection.train_test_split(X, y, test_size=0.2, random_state=1)"
   ]
  },
  {
   "cell_type": "code",
   "execution_count": 4,
   "metadata": {},
   "outputs": [],
   "source": [
    "def e_metrics(x1, x2):\n",
    "# Используем евклидову метрику. Реализуем функцию для ее подсчета.    \n",
    "    distance = 0\n",
    "    for i in range(len(x1)):\n",
    "        distance += np.square(x1[i] - x2[i])\n",
    "    return np.sqrt(distance)"
   ]
  },
  {
   "cell_type": "code",
   "execution_count": 5,
   "metadata": {},
   "outputs": [],
   "source": [
    "def predict(param, y, k, reverse):\n",
    "    # создаем словарь со всеми возможными классами\n",
    "    classes = {class_item: 0 for class_item in set(y)}\n",
    "    # Сортируем список и среди первых k элементов подсчитаем частоту появления разных классов\n",
    "    for d in sorted(param, reverse=reverse)[0:k]:\n",
    "        classes[d[1]] += d[0]\n",
    "    # Выдаем наиболее часто встречающийся класс\n",
    "    return sorted(classes, key=classes.get)[-1]"
   ]
  },
  {
   "cell_type": "code",
   "execution_count": 6,
   "metadata": {},
   "outputs": [],
   "source": [
    "def knn(x_train, y_train, x_test, k, a, b):\n",
    "#   Реализуем алгоритм поиска k ближайших соседей.\n",
    "    answers_dist = []\n",
    "    answers_weight = []\n",
    "    for x in x_test:\n",
    "        test_distances = []\n",
    "        test_weight = []\n",
    "        for i in range(len(x_train)):\n",
    "            # расчет расстояния от классифицируемого объекта до\n",
    "            # объекта обучающей выборки\n",
    "            distance = e_metrics(x, x_train[i])\n",
    "            # расчет веса объекта обучающей выборки\n",
    "            weight = 1/(distance + a)**b\n",
    "            # Записываем в список значение расстояния и ответа на объекте обучающей выборки\n",
    "            test_distances.append((distance, y_train[i]))\n",
    "            test_weight.append((weight, y_train[i]))\n",
    "        d_predict = predict(test_distances, y_train, k, False)\n",
    "        w_predict = predict(test_weight, y_train, k, True)\n",
    "#         # создаем словарь со всеми возможными классами\n",
    "#         classes = {class_item: 0 for class_item in set(y_train)}\n",
    "        \n",
    "#         # Сортируем список и среди первых k элементов подсчитаем частоту появления разных классов\n",
    "#         for d in sorted(test_distances)[0:k]:\n",
    "#             classes[d[1]] += 1\n",
    "        # Записываем в список ответов наиболее часто встречающийся класс\n",
    "        answers_dist.append(d_predict)\n",
    "        answers_weight.append(w_predict)\n",
    "    return answers_dist, answers_weight"
   ]
  },
  {
   "cell_type": "code",
   "execution_count": 7,
   "metadata": {},
   "outputs": [],
   "source": [
    "def accuracy(pred, y):\n",
    "#     Напишем функцию для вычисления точности\n",
    "    return (sum(pred == y) / len(y))"
   ]
  },
  {
   "cell_type": "code",
   "execution_count": 12,
   "metadata": {},
   "outputs": [
    {
     "name": "stdout",
     "output_type": "stream",
     "text": [
      "Точность алгоритма при k = 5: \n",
      "     предсказание по расстоянию - 0.900; \n",
      "     предсказание по весам - 0.800\n"
     ]
    }
   ],
   "source": [
    "k = 5\n",
    "\n",
    "y_pred_dist, y_pred_weight = knn(X_train, y_train, X_test, k, 0.001, 2)\n",
    "\n",
    "print(f'Точность алгоритма при k = {k}: \\n' \\\n",
    "      f'     предсказание по расстоянию - {accuracy(y_pred_dist, y_test):.3f}; \\n' \\\n",
    "      f'     предсказание по весам - {accuracy(y_pred_weight, y_test):.3f}')"
   ]
  },
  {
   "cell_type": "code",
   "execution_count": null,
   "metadata": {},
   "outputs": [],
   "source": []
  }
 ],
 "metadata": {
  "kernelspec": {
   "display_name": "Python 3",
   "language": "python",
   "name": "python3"
  },
  "language_info": {
   "codemirror_mode": {
    "name": "ipython",
    "version": 3
   },
   "file_extension": ".py",
   "mimetype": "text/x-python",
   "name": "python",
   "nbconvert_exporter": "python",
   "pygments_lexer": "ipython3",
   "version": "3.7.6"
  }
 },
 "nbformat": 4,
 "nbformat_minor": 4
}
