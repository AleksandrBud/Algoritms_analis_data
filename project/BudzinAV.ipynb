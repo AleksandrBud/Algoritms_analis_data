{
 "cells": [
  {
   "cell_type": "code",
   "execution_count": 1,
   "metadata": {},
   "outputs": [],
   "source": [
    "import numpy as np\n",
    "import pandas as pd\n",
    "import matplotlib.pyplot as plt\n",
    "import seaborn as sns\n",
    "from sklearn.model_selection import train_test_split"
   ]
  },
  {
   "cell_type": "code",
   "execution_count": 2,
   "metadata": {},
   "outputs": [],
   "source": [
    "# Нормализация данных\n",
    "def norm_a(param, param_mean, param_std):\n",
    "    if param_mean == 0 and param_std == 0:\n",
    "        param_mean = param.mean()\n",
    "        param_std = param.std()\n",
    "    print(param_mean, param_std)\n",
    "    ret_val = (param - param_mean) / param_std\n",
    "    return ret_val, param_mean, param_std"
   ]
  },
  {
   "cell_type": "code",
   "execution_count": 3,
   "metadata": {},
   "outputs": [],
   "source": [
    "def polyfit(x, y):\n",
    "    correlation = np.corrcoef(x, y)[0,1]\n",
    "    return correlation**2"
   ]
  },
  {
   "cell_type": "code",
   "execution_count": 4,
   "metadata": {},
   "outputs": [],
   "source": [
    "def calc_mse(y, y_pred):\n",
    "    return np.mean((y - y_pred)**2)"
   ]
  },
  {
   "cell_type": "code",
   "execution_count": 5,
   "metadata": {},
   "outputs": [],
   "source": [
    "# Создадим класс для нашей модели\n",
    "class LineReg:\n",
    "    \n",
    "    def __init__(self, alpha = 1e-2, lmbd = 1e-2):\n",
    "        self.alpha = alpha\n",
    "        self.lmbd = lmbd\n",
    "    \n",
    "    def fit(self, x_train, y_tr, x_test, y_tes, iterations):\n",
    "        n = x_train.shape[1]\n",
    "        W = np.random.randn(x_train.shape[0])\n",
    "        err_pred = np.inf\n",
    "        self.err_train = []\n",
    "        self.err_test = []\n",
    "        self.score_train = []\n",
    "        self.score_test = []\n",
    "        for i in range(iterations):\n",
    "            y_pr = np.dot(W, x_train)\n",
    "            y_pr2 = np.dot(W, x_test)\n",
    "            err = calc_mse(y_tr, y_pr)\n",
    "            err2 = calc_mse(y_tes, y_pr2)\n",
    "            score = polyfit(y_tr, y_pr)\n",
    "            score2 = polyfit(y_tes, y_pr2)\n",
    "            self.err_train.append(err)\n",
    "            self.err_test.append(err2)\n",
    "            self.score_train.append(score)\n",
    "            self.score_test.append(score2)\n",
    "            if err_pred < err:\n",
    "                break\n",
    "                self.W = w_pred.copy()\n",
    "                return err_train, err_test, score_train, score_test\n",
    "            err_pred = err\n",
    "            w_pred = W.copy()\n",
    "            W -= self.alpha * (1/n * 2 * np.dot((y_pr - y_tr), x_train.T) + self.lmbd * np.sign(W))\n",
    "            if i % 100 == 0:\n",
    "                print(i, W, err)\n",
    "                print('\\n')\n",
    "        self.W = W.copy()\n",
    "    \n",
    "    def predict(self, x):\n",
    "        return np.dot(self.W, x)"
   ]
  },
  {
   "cell_type": "code",
   "execution_count": 6,
   "metadata": {},
   "outputs": [],
   "source": [
    "# Функция для обработки данных\n",
    "def process_data(data_in, list_params, list_norm_param, norm_index, qual):\n",
    "    data_id = data_in[:, 0]\n",
    "    data_out = data_in[:, list_params]\n",
    "    data_out = np.hstack((data_out, np.ones((data_out.shape[0], 1))))\n",
    "    data_out = data_out.T\n",
    "    data_out[0] = np.log(data_out[0])\n",
    "    data_out[2] = data_out[2]**2\n",
    "    data_out[3] = data_out[3]**2\n",
    "    norm_param = []\n",
    "    k = 0\n",
    "    for i in list_norm_param:\n",
    "        data_out[i], o, p = norm_a(data_out[i], norm_index[k][0], norm_index[k][1])\n",
    "        norm_param.append([o, p])\n",
    "        k = k + 1\n",
    "    k = 0\n",
    "    for i in data_out[qual]:\n",
    "        if i == 4.0:\n",
    "            data_out[qual, k] = 3.0\n",
    "        k = k + 1\n",
    "    return data_id, data_out, norm_param"
   ]
  },
  {
   "cell_type": "code",
   "execution_count": 7,
   "metadata": {},
   "outputs": [],
   "source": [
    "#  Читаем данные из файлов\n",
    "train = pd.read_csv('train.csv').values\n",
    "test = pd.read_csv('test.csv').values"
   ]
  },
  {
   "cell_type": "code",
   "execution_count": 8,
   "metadata": {},
   "outputs": [],
   "source": [
    "# Разбиваем тренировочные данные на тенировочную и тестовую выборки\n",
    "X_tr, X_tes, y_train, y_test = train_test_split(train[:,:11], train[:,11], test_size=0.25)"
   ]
  },
  {
   "cell_type": "code",
   "execution_count": 9,
   "metadata": {},
   "outputs": [
    {
     "name": "stdout",
     "output_type": "stream",
     "text": [
      "3.8087224673756825 0.18194734605184845\n",
      "3151791.3333333335 2047294.0163684897\n"
     ]
    }
   ],
   "source": [
    "# Обрабатываем тренировочную выборку\n",
    "list_param = [1, 2, 3, 4, 5, 6, 7, 8, 9, 10]\n",
    "norm_param = [0, 2]\n",
    "qualification = 3\n",
    "norm_ind = [[0, 0], [0, 0]]\n",
    "id_train, X_train, norm_ind = process_data(X_tr, list_param, norm_param, norm_ind, qualification)"
   ]
  },
  {
   "cell_type": "code",
   "execution_count": 10,
   "metadata": {},
   "outputs": [
    {
     "name": "stdout",
     "output_type": "stream",
     "text": [
      "3.8087224673756825 0.18194734605184845\n",
      "3151791.3333333335 2047294.0163684897\n"
     ]
    }
   ],
   "source": [
    "# Обрабатываем тестовую выборку\n",
    "id_test, X_test, norm_ind = process_data(X_tes, list_param, norm_param, norm_ind, qualification)"
   ]
  },
  {
   "cell_type": "code",
   "execution_count": 11,
   "metadata": {},
   "outputs": [
    {
     "name": "stdout",
     "output_type": "stream",
     "text": [
      "3.8087224673756825 0.18194734605184845\n",
      "3151791.3333333335 2047294.0163684897\n"
     ]
    }
   ],
   "source": [
    "# Обрабатываем целиком данные из тренировочного файла \n",
    "id_all, X_all, norm_ind = process_data(train[:,:11], list_param, norm_param, norm_ind, qualification)\n",
    "y_all = train[:,11] "
   ]
  },
  {
   "cell_type": "code",
   "execution_count": 12,
   "metadata": {},
   "outputs": [
    {
     "name": "stdout",
     "output_type": "stream",
     "text": [
      "3.8087224673756825 0.18194734605184845\n",
      "3151791.3333333335 2047294.0163684897\n"
     ]
    }
   ],
   "source": [
    "# Обрабатываем данные из тестового файла\n",
    "id_test_main, X_test_main, norm_ind = process_data(test[:,:11], list_param, norm_param, norm_ind, qualification)"
   ]
  },
  {
   "cell_type": "code",
   "execution_count": 13,
   "metadata": {},
   "outputs": [
    {
     "name": "stdout",
     "output_type": "stream",
     "text": [
      "0 [-0.64881547  1.62426604  0.76371414  4.30770983  1.08736037 -1.53229192\n",
      " -1.99267319  0.51492883 -1.10901654  0.25429073  1.78649143] 5280.260174691303\n",
      "\n",
      "\n",
      "100 [-0.7072145   4.53901996 -9.54492088  7.09768825  8.5713815   1.37920575\n",
      "  0.55900839  1.73196891 -0.20921278  0.62109711 23.01711378] 250.53235644727954\n",
      "\n",
      "\n",
      "200 [-0.49033841  2.78335426 -7.70659269  6.04866014  9.74288728  2.25422245\n",
      "  1.44795876  2.14443652  0.22292956  0.75315517 31.64528021] 160.73453437157187\n",
      "\n",
      "\n",
      "300 [-0.35897924  1.9815009  -4.89108855  5.10841783  9.60461432  2.58571356\n",
      "  1.8850104   2.34253846  0.504287    0.82999348 37.19335623] 119.43314018691993\n",
      "\n",
      "\n",
      "400 [-0.28158725  1.47557826 -2.58676581  4.38977799  9.09905052  2.66866035\n",
      "  2.10189051  2.43641499  0.70569444  0.87948615 41.24963495] 96.2683640194281\n",
      "\n",
      "\n",
      "500 [-0.22907882  1.11447872 -0.85187192  3.85439102  8.50839946  2.6157001\n",
      "  2.18711101  2.46544314  0.85217755  0.91087678 44.32598998] 82.85431962172673\n",
      "\n",
      "\n",
      "600 [-0.19070397  0.84641459  0.43413055  3.45609258  7.93851009  2.48719538\n",
      "  2.18958696  2.45117547  0.95843949  0.9290711  46.68589626] 74.96068565754425\n",
      "\n",
      "\n",
      "700 [-0.16190565  0.64485306  1.39168013  3.15854252  7.4301692   2.32009487\n",
      "  2.14074574  2.40788652  1.03462552  0.93736728 48.50273046] 70.25675142501075\n",
      "\n",
      "\n",
      "800 [-0.14020418  0.49257126  2.11390755  2.93367271  6.99748353  2.13848943\n",
      "  2.06235841  2.34602546  1.08830128  0.93831037 49.90866781] 67.41517679344334\n",
      "\n",
      "\n",
      "900 [-0.12380276  0.37658194  2.66097579  2.76285569  6.6393257   1.95713719\n",
      "  1.96888703  2.27296808  1.12503827  0.93378585 51.00076956] 65.68184854322504\n",
      "\n",
      "\n",
      "1000 [-0.11138718  0.28777955  3.07749192  2.63244961  6.34812719  1.78474471\n",
      "  1.86985858  2.19394165  1.14900425  0.9252155  51.85166832] 64.61487122946846\n",
      "\n",
      "\n",
      "1100 [-0.10198563  0.21951425  3.39613555  2.53244467  6.11423292  1.62607422\n",
      "  1.77142235  2.1126403   1.16334972  0.91368278 52.51647338] 63.95224101240541\n",
      "\n",
      "\n",
      "1200 [-0.09486852  0.16685032  3.64095417  2.45544476  5.92794371  1.48331731\n",
      "  1.67739063  2.03164015  1.17046954  0.90001623 53.03725803] 63.53708285048618\n",
      "\n",
      "\n",
      "1300 [-0.08948455  0.12609205  3.82977489  2.39594369  5.78043657  1.35702392\n",
      "  1.58996716  1.95269867  1.17219102  0.88485025 53.4462746 ] 63.274648554043374\n",
      "\n",
      "\n",
      "1400 [-0.085416    0.09445471  3.9759105   2.34981388  5.66410433  1.24673337\n",
      "  1.51026245  1.87697482  1.16991209  0.86867065 53.76832921] 63.107247861693615\n",
      "\n",
      "\n",
      "1500 [-0.08234591  0.06982906  4.08936805  2.31394237  5.57259956  1.15139982\n",
      "  1.43865833  1.80519178  1.164704    0.85184921 54.02255676] 62.99947797305082\n",
      "\n",
      "\n",
      "1600 [-8.00336426e-02  5.06104002e-02  4.17771301e+00  2.28596895e+00\n",
      "  5.50073839e+00  1.06967531e+00  1.37506472e+00  1.73775767e+00\n",
      "  1.15738835e+00  8.34669942e-01  5.42237568e+01] 62.929443503828146\n",
      "\n",
      "\n",
      "1700 [-7.82963198e-02  3.55731711e-02  4.24669361e+00  2.26409592e+00\n",
      "  5.44434883e+00  1.00009419e+00  1.31909920e+00  1.67485506e+00\n",
      "  1.14859518e+00  8.17349181e-01  5.43834043e+01] 62.88349633208054\n",
      "\n",
      "\n",
      "1800 [-7.69949535e-02  2.37781551e-02  4.30069638e+00  2.24694847e+00\n",
      "  5.40010736e+00  9.41189871e-01  1.27021128e+00  1.61650728e+00\n",
      "  1.13880712e+00  8.00051007e-01  5.45104170e+01] 62.85306115869319\n",
      "\n",
      "\n",
      "1900 [-7.60238665e-02  1.45033807e-02  4.34308151e+00  2.23347152e+00\n",
      "  5.36538548e+00  8.91565115e-01  1.22776714e+00  1.56262749e+00\n",
      "  1.12839305e+00  7.82899081e-01  5.46117407e+01] 62.83270618890788\n",
      "\n",
      "\n",
      "2000 [-7.53027032e-02  7.19233147e-03  4.37643173e+00  2.22285274e+00\n",
      "  5.33811483e+00  8.49931264e-01  1.19110617e+00  1.51305491e+00\n",
      "  1.11763388e+00  7.65985787e-01  5.46927974e+01] 62.81896229616995\n",
      "\n",
      "\n",
      "2100 [-7.47703655e-02  1.41493306e-03  4.40273821e+00  2.21446494e+00\n",
      "  5.31667357e+00  8.15126735e-01  1.15957764e+00  1.46758133e+00\n",
      "  1.10674241e+00  7.49379288e-01  5.47578280e+01] 62.80959516241308\n",
      "\n",
      "\n",
      "2200 [-7.45595376e-02 -5.45410630e-04  4.42385569e+00  2.20703135e+00\n",
      "  5.29936104e+00  7.85951660e-01  1.13242040e+00  1.42591310e+00\n",
      "  1.09584227e+00  7.33093008e-01  5.48088888e+01] 62.8032154475696\n",
      "\n",
      "\n",
      "2300 [-7.44467392e-02 -3.72728038e-03  4.44024050e+00  2.20188572e+00\n",
      "  5.28570072e+00  7.61657954e-01  1.10918123e+00  1.38786136e+00\n",
      "  1.08508696e+00  7.17173027e-01  5.48494746e+01] 62.798815429736266\n",
      "\n",
      "\n",
      "2400 [-7.42878443e-02 -6.46522892e-03  4.45288626e+00  2.19784957e+00\n",
      "  5.27515387e+00  7.41600092e-01  1.08945446e+00  1.35320931e+00\n",
      "  1.07459202e+00  7.01680574e-01  5.48826805e+01] 62.79572495996419\n",
      "\n",
      "\n",
      "2500 [-7.41618841e-02 -8.68417347e-03  4.46292772e+00  2.19462521e+00\n",
      "  5.26689136e+00  7.25043204e-01  1.07272177e+00  1.32168062e+00\n",
      "  1.06440614e+00  6.86624167e-01  5.49097557e+01] 62.793541084847426\n",
      "\n",
      "\n",
      "2600 [-7.40733781e-02 -1.04699495e-02  4.47096599e+00  2.19203758e+00\n",
      "  5.26037691e+00  7.11394267e-01  1.05855127e+00  1.29302346e+00\n",
      "  1.05456793e+00  6.72010082e-01  5.49318729e+01] 62.79199036148223\n",
      "\n",
      "\n",
      "2700 [-7.40148625e-02 -1.19076091e-02  4.47742327e+00  2.18995491e+00\n",
      "  5.25521862e+00  7.00158784e-01  1.04656984e+00  1.26700068e+00\n",
      "  1.04510362e+00  6.57840479e-01  5.49499971e+01] 62.7908859982672\n",
      "\n",
      "\n",
      "2800 [-7.39786894e-02 -1.30673626e-02  4.48262434e+00  2.18827412e+00\n",
      "  5.25111912e+00  6.90922558e-01  1.03645399e+00  1.24338920e+00\n",
      "  1.03602894e+00  6.44113910e-01  5.49649023e+01] 62.79009926139096\n",
      "\n",
      "\n",
      "2900 [-7.39587313e-02 -1.40052510e-02  4.48682463e+00  2.18691382e+00\n",
      "  5.24784980e+00  6.83339247e-01  1.02792421e+00  1.22198036e+00\n",
      "  1.02735145e+00  6.30826106e-01  5.49772064e+01] 62.78954059031978\n",
      "\n",
      "\n",
      "3000 [-7.39503208e-02 -1.47657251e-02  4.49022610e+00  2.18580958e+00\n",
      "  5.24523378e+00  6.77120015e-01  1.02073991e+00  1.20258012e+00\n",
      "  1.01907241e+00  6.17970656e-01  5.49874035e+01] 62.78914707457727\n",
      "\n",
      "\n",
      "3100 [-7.39499566e-02 -1.53840324e-02  4.49298876e+00  2.18491033e+00\n",
      "  5.24313358e+00  6.72024630e-01  1.01469478e+00  1.18500890e+00\n",
      "  1.01118832e+00  6.05539554e-01  5.49958891e+01] 62.78887409343204\n",
      "\n",
      "\n",
      "3200 [-7.39550324e-02 -1.58881563e-02  4.49523954e+00  2.18417553e+00\n",
      "  5.24144191e+00  6.67853757e-01  1.00961249e+00  1.16910112e+00\n",
      "  1.00369212e+00  5.93523634e-01  5.50029802e+01] 62.788689692078215\n",
      "\n",
      "\n",
      "3300 [-7.39636230e-02 -1.63003497e-02  4.49707927e+00  2.18357296e+00\n",
      "  5.24007478e+00  6.64442360e-01  1.00534277e+00  1.15470464e+00\n",
      "  9.96574135e-01  5.81912900e-01  5.50089321e+01] 62.78857076832411\n",
      "\n",
      "\n",
      "3400 [-7.39743188e-02 -1.66383411e-02  4.49858816e+00  2.18307696e+00\n",
      "  5.23896621e+00  6.61654066e-01  1.00175787e+00  1.14168001e+00\n",
      "  9.89822821e-01  5.70696794e-01  5.50139500e+01] 62.788500465603946\n",
      "\n",
      "\n",
      "3500 [-7.39860991e-02 -1.69162830e-02  4.49983012e+00  2.18266708e+00\n",
      "  5.23806423e+00  6.59376388e-01  9.98749427e-01  1.12989974e+00\n",
      "  9.83425347e-01  5.59864400e-01  5.50182001e+01] 62.78846637560443\n",
      "\n",
      "\n"
     ]
    }
   ],
   "source": [
    "# Обучаем модель на тренировочной выборке\n",
    "lng = LineReg()\n",
    "lng.fit(X_train, y_train, X_test, y_test, 10001)"
   ]
  },
  {
   "cell_type": "code",
   "execution_count": 14,
   "metadata": {},
   "outputs": [
    {
     "name": "stdout",
     "output_type": "stream",
     "text": [
      "0.65624 0.67164 0.66\n"
     ]
    }
   ],
   "source": [
    "# Предсказываем значения для каждого набора данных, выводим метрику качества по каждому набору\n",
    "y_train_pred = lng.predict(X_train) \n",
    "y_test_pred = lng.predict(X_test) \n",
    "y_all_pred = lng.predict(X_all)\n",
    "r2_train = np.round(polyfit(y_train, y_train_pred),5)\n",
    "r2_test = np.round(polyfit(y_test, y_test_pred),5)\n",
    "r2_all = np.round(polyfit(y_all, y_all_pred),5)\n",
    "print(r2_train, r2_test, r2_all)"
   ]
  },
  {
   "cell_type": "code",
   "execution_count": 15,
   "metadata": {},
   "outputs": [],
   "source": [
    "# Предсказываем значения для тестовой выборки\n",
    "y_test_main = lng.predict(X_test_main) "
   ]
  },
  {
   "cell_type": "code",
   "execution_count": 16,
   "metadata": {},
   "outputs": [],
   "source": [
    "# Записываем результат в файл\n",
    "resalt = pd.read_csv('submission_example.csv')\n",
    "resalt['mean_exam_points'] = y_test_main\n",
    "resalt.to_csv('submission.csv', index=False)"
   ]
  },
  {
   "cell_type": "code",
   "execution_count": 17,
   "metadata": {},
   "outputs": [
    {
     "data": {
      "text/plain": [
       "0.67164"
      ]
     },
     "execution_count": 17,
     "metadata": {},
     "output_type": "execute_result"
    }
   ],
   "source": [
    "r2_test = np.round(polyfit(y_test, y_test_pred),5)\n",
    "r2_test"
   ]
  },
  {
   "cell_type": "code",
   "execution_count": null,
   "metadata": {},
   "outputs": [],
   "source": []
  }
 ],
 "metadata": {
  "kernelspec": {
   "display_name": "Python 3",
   "language": "python",
   "name": "python3"
  },
  "language_info": {
   "codemirror_mode": {
    "name": "ipython",
    "version": 3
   },
   "file_extension": ".py",
   "mimetype": "text/x-python",
   "name": "python",
   "nbconvert_exporter": "python",
   "pygments_lexer": "ipython3",
   "version": "3.7.6"
  }
 },
 "nbformat": 4,
 "nbformat_minor": 4
}
